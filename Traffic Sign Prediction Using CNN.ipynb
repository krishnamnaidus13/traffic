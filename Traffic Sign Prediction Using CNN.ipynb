{
 "cells": [
  {
   "cell_type": "code",
   "execution_count": 3,
   "metadata": {},
   "outputs": [],
   "source": [
    "import numpy as np\n",
    "import pandas as pd\n",
    "import matplotlib.pyplot as plt\n",
    "import tensorflow as tf\n",
    "from PIL import Image\n",
    "import os\n",
    "os.chdir('D:/Traffic')\n",
    "from sklearn.model_selection import train_test_split\n",
    "from tensorflow.keras.utils import to_categorical\n",
    "from tensorflow.keras.models import Sequential, load_model\n",
    "from tensorflow.keras.layers import Conv2D,MaxPool2D,Dense,Flatten,Dropout"
   ]
  },
  {
   "cell_type": "code",
   "execution_count": null,
   "metadata": {},
   "outputs": [],
   "source": []
  },
  {
   "cell_type": "code",
   "execution_count": 4,
   "metadata": {},
   "outputs": [],
   "source": [
    "data =[]\n",
    "labels=[]\n",
    "classes=43\n",
    "cur_path=os.getcwd()"
   ]
  },
  {
   "cell_type": "code",
   "execution_count": 5,
   "metadata": {},
   "outputs": [
    {
     "data": {
      "text/plain": [
       "'D:\\\\Traffic'"
      ]
     },
     "execution_count": 5,
     "metadata": {},
     "output_type": "execute_result"
    }
   ],
   "source": [
    "cur_path"
   ]
  },
  {
   "cell_type": "code",
   "execution_count": null,
   "metadata": {},
   "outputs": [],
   "source": []
  },
  {
   "cell_type": "code",
   "execution_count": 7,
   "metadata": {},
   "outputs": [],
   "source": [
    "for i in range(classes):\n",
    "    path=os.path.join(cur_path,'train',str(i))\n",
    "    images=os.listdir(path)\n",
    "    for a in images:\n",
    "        try:\n",
    "            image=Image.open(path+'\\\\'+a)\n",
    "            image=image.resize((30,30))\n",
    "            image=np.array(image)\n",
    "            data.append(image)\n",
    "            labels.append(i)\n",
    "        except Exception as e:\n",
    "            print(e)"
   ]
  },
  {
   "cell_type": "code",
   "execution_count": null,
   "metadata": {},
   "outputs": [],
   "source": []
  },
  {
   "cell_type": "code",
   "execution_count": 8,
   "metadata": {},
   "outputs": [],
   "source": [
    "data=np.array(data)\n",
    "labels=np.array(labels)"
   ]
  },
  {
   "cell_type": "code",
   "execution_count": null,
   "metadata": {},
   "outputs": [],
   "source": []
  },
  {
   "cell_type": "code",
   "execution_count": 9,
   "metadata": {},
   "outputs": [],
   "source": [
    "os.mkdir('training')"
   ]
  },
  {
   "cell_type": "code",
   "execution_count": 10,
   "metadata": {},
   "outputs": [],
   "source": [
    "np.save('./training/data',data)\n",
    "np.save('./training/target',labels)"
   ]
  },
  {
   "cell_type": "code",
   "execution_count": null,
   "metadata": {},
   "outputs": [],
   "source": []
  },
  {
   "cell_type": "code",
   "execution_count": 11,
   "metadata": {},
   "outputs": [],
   "source": [
    "data=np.load('./training/data.npy')\n",
    "labels=np.load('./training/target.npy')"
   ]
  },
  {
   "cell_type": "code",
   "execution_count": 12,
   "metadata": {},
   "outputs": [
    {
     "name": "stdout",
     "output_type": "stream",
     "text": [
      "(39209, 30, 30, 3)\n"
     ]
    }
   ],
   "source": [
    "print(data.shape)"
   ]
  },
  {
   "cell_type": "code",
   "execution_count": 13,
   "metadata": {},
   "outputs": [
    {
     "name": "stdout",
     "output_type": "stream",
     "text": [
      "(39209,)\n"
     ]
    }
   ],
   "source": [
    "print(labels.shape)"
   ]
  },
  {
   "cell_type": "code",
   "execution_count": 17,
   "metadata": {},
   "outputs": [],
   "source": [
    "x_train,x_test,y_train,y_test= train_test_split(data,labels,test_size=0.2,random_state=0)"
   ]
  },
  {
   "cell_type": "code",
   "execution_count": 18,
   "metadata": {},
   "outputs": [
    {
     "name": "stdout",
     "output_type": "stream",
     "text": [
      "x_train shape:  (31367, 30, 30, 3)\n",
      "y_train shape:  (31367,)\n",
      "x_test shape :  (7842, 30, 30, 3)\n",
      "y_test shape :  (7842,)\n"
     ]
    }
   ],
   "source": [
    "print(\"x_train shape: \",x_train.shape)\n",
    "print(\"y_train shape: \",y_train.shape)\n",
    "print(\"x_test shape : \",x_test.shape)\n",
    "print(\"y_test shape : \",y_test.shape)"
   ]
  },
  {
   "cell_type": "code",
   "execution_count": 20,
   "metadata": {},
   "outputs": [
    {
     "data": {
      "text/plain": [
       "array([[[[ 23,  20,  22],\n",
       "         [ 24,  21,  23],\n",
       "         [ 24,  22,  23],\n",
       "         ...,\n",
       "         [ 21,  19,  21],\n",
       "         [ 20,  18,  20],\n",
       "         [ 21,  19,  20]],\n",
       "\n",
       "        [[ 21,  19,  21],\n",
       "         [ 22,  20,  20],\n",
       "         [ 22,  21,  21],\n",
       "         ...,\n",
       "         [ 21,  18,  20],\n",
       "         [ 21,  18,  21],\n",
       "         [ 21,  19,  20]],\n",
       "\n",
       "        [[ 21,  19,  20],\n",
       "         [ 21,  20,  20],\n",
       "         [ 22,  20,  21],\n",
       "         ...,\n",
       "         [ 20,  17,  19],\n",
       "         [ 20,  18,  19],\n",
       "         [ 21,  19,  20]],\n",
       "\n",
       "        ...,\n",
       "\n",
       "        [[ 21,  18,  20],\n",
       "         [ 20,  19,  21],\n",
       "         [ 21,  19,  20],\n",
       "         ...,\n",
       "         [ 19,  17,  18],\n",
       "         [ 18,  17,  18],\n",
       "         [ 19,  18,  20]],\n",
       "\n",
       "        [[ 21,  19,  21],\n",
       "         [ 22,  20,  22],\n",
       "         [ 23,  20,  21],\n",
       "         ...,\n",
       "         [ 19,  16,  18],\n",
       "         [ 18,  17,  19],\n",
       "         [ 19,  17,  19]],\n",
       "\n",
       "        [[ 19,  17,  20],\n",
       "         [ 20,  18,  20],\n",
       "         [ 21,  19,  21],\n",
       "         ...,\n",
       "         [ 17,  15,  18],\n",
       "         [ 17,  15,  17],\n",
       "         [ 18,  15,  17]]],\n",
       "\n",
       "\n",
       "       [[[ 74,  58,  53],\n",
       "         [ 68,  55,  48],\n",
       "         [ 68,  56,  48],\n",
       "         ...,\n",
       "         [ 63,  55,  47],\n",
       "         [ 59,  53,  46],\n",
       "         [ 66,  61,  56]],\n",
       "\n",
       "        [[ 84,  68,  65],\n",
       "         [ 71,  60,  52],\n",
       "         [ 73,  65,  57],\n",
       "         ...,\n",
       "         [ 64,  56,  46],\n",
       "         [ 67,  59,  53],\n",
       "         [ 72,  63,  59]],\n",
       "\n",
       "        [[ 76,  64,  61],\n",
       "         [ 72,  63,  58],\n",
       "         [ 74,  68,  56],\n",
       "         ...,\n",
       "         [ 66,  59,  51],\n",
       "         [ 70,  62,  55],\n",
       "         [ 71,  61,  54]],\n",
       "\n",
       "        ...,\n",
       "\n",
       "        [[ 75,  64,  57],\n",
       "         [ 64,  54,  47],\n",
       "         [ 68,  61,  51],\n",
       "         ...,\n",
       "         [ 62,  58,  54],\n",
       "         [ 61,  56,  50],\n",
       "         [ 57,  51,  42]],\n",
       "\n",
       "        [[ 77,  62,  52],\n",
       "         [ 64,  53,  44],\n",
       "         [ 63,  56,  54],\n",
       "         ...,\n",
       "         [ 60,  55,  50],\n",
       "         [ 60,  54,  48],\n",
       "         [ 56,  48,  41]],\n",
       "\n",
       "        [[ 85,  65,  55],\n",
       "         [ 64,  52,  43],\n",
       "         [ 64,  57,  54],\n",
       "         ...,\n",
       "         [ 59,  50,  44],\n",
       "         [ 59,  51,  43],\n",
       "         [ 57,  48,  43]]],\n",
       "\n",
       "\n",
       "       [[[ 83,  84,  83],\n",
       "         [ 75,  80,  76],\n",
       "         [ 52,  57,  46],\n",
       "         ...,\n",
       "         [159, 150, 113],\n",
       "         [115, 108, 114],\n",
       "         [ 81,  76,  70]],\n",
       "\n",
       "        [[ 90,  93, 100],\n",
       "         [ 63,  60,  53],\n",
       "         [ 60,  54,  51],\n",
       "         ...,\n",
       "         [174, 163, 154],\n",
       "         [112,  99,  98],\n",
       "         [ 83,  72,  59]],\n",
       "\n",
       "        [[ 59,  58,  52],\n",
       "         [ 69,  68,  64],\n",
       "         [ 93,  93, 121],\n",
       "         ...,\n",
       "         [150, 140, 125],\n",
       "         [ 78,  74,  64],\n",
       "         [100,  84,  70]],\n",
       "\n",
       "        ...,\n",
       "\n",
       "        [[130, 114, 107],\n",
       "         [118, 103,  98],\n",
       "         [116, 106, 104],\n",
       "         ...,\n",
       "         [ 71,  65,  58],\n",
       "         [ 59,  57,  48],\n",
       "         [ 51,  52,  46]],\n",
       "\n",
       "        [[126, 122, 112],\n",
       "         [123, 108, 104],\n",
       "         [113, 100, 102],\n",
       "         ...,\n",
       "         [ 76,  68,  60],\n",
       "         [ 66,  61,  57],\n",
       "         [ 54,  55,  49]],\n",
       "\n",
       "        [[101,  90,  81],\n",
       "         [107,  93,  84],\n",
       "         [102,  86,  81],\n",
       "         ...,\n",
       "         [ 70,  71,  56],\n",
       "         [ 61,  62,  55],\n",
       "         [ 56,  55,  51]]],\n",
       "\n",
       "\n",
       "       ...,\n",
       "\n",
       "\n",
       "       [[[ 60,  50,  32],\n",
       "         [ 41,  51,  48],\n",
       "         [ 85, 111, 105],\n",
       "         ...,\n",
       "         [ 87, 103,  56],\n",
       "         [127, 105,  44],\n",
       "         [ 39,  46,  22]],\n",
       "\n",
       "        [[113, 108,  70],\n",
       "         [ 55,  64,  53],\n",
       "         [ 68,  89,  77],\n",
       "         ...,\n",
       "         [134, 149,  99],\n",
       "         [171, 137,  81],\n",
       "         [ 84,  72,  48]],\n",
       "\n",
       "        [[111, 117,  99],\n",
       "         [ 62,  77,  62],\n",
       "         [ 48,  61,  46],\n",
       "         ...,\n",
       "         [116, 150, 135],\n",
       "         [181, 175, 139],\n",
       "         [108, 112,  97]],\n",
       "\n",
       "        ...,\n",
       "\n",
       "        [[ 31,  40,  38],\n",
       "         [ 48,  56,  51],\n",
       "         [ 45,  53,  45],\n",
       "         ...,\n",
       "         [167, 179, 132],\n",
       "         [202, 198, 141],\n",
       "         [165, 167,  97]],\n",
       "\n",
       "        [[ 37,  44,  43],\n",
       "         [ 45,  55,  48],\n",
       "         [ 42,  45,  43],\n",
       "         ...,\n",
       "         [148, 154, 100],\n",
       "         [158, 152, 136],\n",
       "         [113, 141,  98]],\n",
       "\n",
       "        [[ 37,  41,  39],\n",
       "         [ 49,  55,  53],\n",
       "         [ 44,  45,  43],\n",
       "         ...,\n",
       "         [183, 176, 127],\n",
       "         [143, 139, 117],\n",
       "         [ 85, 100,  67]]],\n",
       "\n",
       "\n",
       "       [[[ 21,  21,  30],\n",
       "         [ 18,  24,  32],\n",
       "         [ 21,  27,  36],\n",
       "         ...,\n",
       "         [ 11,  11,  16],\n",
       "         [ 12,  13,  16],\n",
       "         [ 13,  12,  15]],\n",
       "\n",
       "        [[ 25,  29,  41],\n",
       "         [ 26,  32,  44],\n",
       "         [ 28,  36,  47],\n",
       "         ...,\n",
       "         [ 11,  11,  16],\n",
       "         [ 12,  12,  15],\n",
       "         [ 12,  12,  15]],\n",
       "\n",
       "        [[ 29,  36,  46],\n",
       "         [ 31,  37,  48],\n",
       "         [ 33,  39,  51],\n",
       "         ...,\n",
       "         [ 11,  11,  15],\n",
       "         [ 12,  12,  17],\n",
       "         [ 12,  12,  15]],\n",
       "\n",
       "        ...,\n",
       "\n",
       "        [[ 30,  33,  37],\n",
       "         [ 25,  25,  29],\n",
       "         [ 26,  26,  31],\n",
       "         ...,\n",
       "         [ 31,  32,  38],\n",
       "         [ 29,  30,  37],\n",
       "         [ 27,  31,  38]],\n",
       "\n",
       "        [[ 22,  23,  25],\n",
       "         [ 21,  20,  23],\n",
       "         [ 23,  22,  23],\n",
       "         ...,\n",
       "         [ 31,  34,  42],\n",
       "         [ 29,  31,  36],\n",
       "         [ 27,  31,  39]],\n",
       "\n",
       "        [[ 17,  15,  18],\n",
       "         [ 15,  13,  17],\n",
       "         [ 18,  15,  18],\n",
       "         ...,\n",
       "         [ 31,  35,  43],\n",
       "         [ 29,  31,  34],\n",
       "         [ 26,  28,  34]]],\n",
       "\n",
       "\n",
       "       [[[ 20,  21,  27],\n",
       "         [ 21,  22,  28],\n",
       "         [ 20,  21,  26],\n",
       "         ...,\n",
       "         [ 19,  64,  72],\n",
       "         [  5,  24,  30],\n",
       "         [ 46,  45,  47]],\n",
       "\n",
       "        [[ 20,  21,  26],\n",
       "         [ 20,  21,  26],\n",
       "         [ 20,  22,  27],\n",
       "         ...,\n",
       "         [ 85,  74,  93],\n",
       "         [ 34,  28,  32],\n",
       "         [ 50,  50,  51]],\n",
       "\n",
       "        [[ 21,  22,  28],\n",
       "         [ 21,  23,  29],\n",
       "         [ 21,  24,  21],\n",
       "         ...,\n",
       "         [130,  48,  68],\n",
       "         [ 70,  32,  46],\n",
       "         [ 51,  52,  57]],\n",
       "\n",
       "        ...,\n",
       "\n",
       "        [[ 20,  23,  29],\n",
       "         [ 23,  24,  30],\n",
       "         [ 22,  23,  29],\n",
       "         ...,\n",
       "         [ 23,  24,  33],\n",
       "         [ 33,  31,  42],\n",
       "         [ 58,  55,  61]],\n",
       "\n",
       "        [[ 23,  26,  29],\n",
       "         [ 26,  27,  31],\n",
       "         [ 27,  26,  31],\n",
       "         ...,\n",
       "         [ 23,  24,  32],\n",
       "         [ 31,  31,  41],\n",
       "         [ 55,  52,  57]],\n",
       "\n",
       "        [[ 26,  28,  30],\n",
       "         [ 29,  28,  31],\n",
       "         [ 37,  32,  34],\n",
       "         ...,\n",
       "         [ 24,  24,  32],\n",
       "         [ 34,  33,  41],\n",
       "         [ 54,  50,  56]]]], dtype=uint8)"
      ]
     },
     "execution_count": 20,
     "metadata": {},
     "output_type": "execute_result"
    }
   ],
   "source": [
    "x_train"
   ]
  },
  {
   "cell_type": "code",
   "execution_count": 19,
   "metadata": {},
   "outputs": [
    {
     "data": {
      "text/plain": [
       "array([ 5,  4, 35, ..., 26, 13,  2])"
      ]
     },
     "execution_count": 19,
     "metadata": {},
     "output_type": "execute_result"
    }
   ],
   "source": [
    "y_train"
   ]
  },
  {
   "cell_type": "code",
   "execution_count": 21,
   "metadata": {},
   "outputs": [],
   "source": [
    "y_train=to_categorical(y_train,43)\n",
    "y_test=to_categorical(y_test,43)"
   ]
  },
  {
   "cell_type": "code",
   "execution_count": 22,
   "metadata": {},
   "outputs": [
    {
     "data": {
      "text/plain": [
       "array([[0., 0., 0., ..., 0., 0., 0.],\n",
       "       [0., 0., 0., ..., 0., 0., 0.],\n",
       "       [0., 0., 0., ..., 0., 0., 0.],\n",
       "       ...,\n",
       "       [0., 0., 0., ..., 0., 0., 0.],\n",
       "       [0., 0., 0., ..., 0., 0., 0.],\n",
       "       [0., 0., 1., ..., 0., 0., 0.]], dtype=float32)"
      ]
     },
     "execution_count": 22,
     "metadata": {},
     "output_type": "execute_result"
    }
   ],
   "source": [
    "y_train"
   ]
  },
  {
   "cell_type": "code",
   "execution_count": 23,
   "metadata": {},
   "outputs": [
    {
     "data": {
      "text/plain": [
       "array([[0., 0., 0., ..., 0., 0., 0.],\n",
       "       [0., 0., 0., ..., 0., 0., 0.],\n",
       "       [0., 0., 0., ..., 0., 0., 0.],\n",
       "       ...,\n",
       "       [0., 0., 0., ..., 0., 0., 0.],\n",
       "       [0., 0., 0., ..., 0., 0., 0.],\n",
       "       [0., 0., 0., ..., 0., 0., 0.]], dtype=float32)"
      ]
     },
     "execution_count": 23,
     "metadata": {},
     "output_type": "execute_result"
    }
   ],
   "source": [
    "y_test"
   ]
  },
  {
   "cell_type": "code",
   "execution_count": null,
   "metadata": {},
   "outputs": [],
   "source": []
  },
  {
   "cell_type": "code",
   "execution_count": 24,
   "metadata": {},
   "outputs": [],
   "source": [
    "model= Sequential()\n",
    "\n",
    "model.add(Conv2D(filters=32, kernel_size=(5,5),activation='relu',input_shape=x_train.shape[1:]))\n",
    "model.add(Conv2D(filters=32, kernel_size=(5,5),activation='relu'))\n",
    "model.add(MaxPool2D(pool_size=(2,2)))\n",
    "model.add(Dropout(rate=0.25))\n",
    "model.add(Conv2D(filters=64, kernel_size=(3,3),activation='relu'))\n",
    "model.add(Conv2D(filters=64, kernel_size=(3,3),activation='relu'))\n",
    "model.add(MaxPool2D(pool_size=(2,2)))\n",
    "model.add(Dropout(rate=0.25))\n",
    "model.add(Flatten())\n",
    "model.add(Dense(256,activation='relu'))\n",
    "model.add(Dropout(rate=0.5))\n",
    "model.add(Dense(43,activation='softmax'))"
   ]
  },
  {
   "cell_type": "code",
   "execution_count": 25,
   "metadata": {},
   "outputs": [],
   "source": [
    "model.compile(loss='categorical_crossentropy',optimizer='adam',metrics=['accuracy'])"
   ]
  },
  {
   "cell_type": "code",
   "execution_count": 26,
   "metadata": {},
   "outputs": [
    {
     "name": "stdout",
     "output_type": "stream",
     "text": [
      "Epoch 1/20\n",
      "981/981 [==============================] - 97s 94ms/step - loss: 2.0155 - accuracy: 0.5040 - val_loss: 0.4386 - val_accuracy: 0.8963\n",
      "Epoch 2/20\n",
      "981/981 [==============================] - 88s 90ms/step - loss: 0.6052 - accuracy: 0.8253 - val_loss: 0.2595 - val_accuracy: 0.9348\n",
      "Epoch 3/20\n",
      "981/981 [==============================] - 88s 90ms/step - loss: 0.4301 - accuracy: 0.8770 - val_loss: 0.1554 - val_accuracy: 0.9594\n",
      "Epoch 4/20\n",
      "981/981 [==============================] - 90s 92ms/step - loss: 0.3324 - accuracy: 0.9046 - val_loss: 0.1012 - val_accuracy: 0.9730\n",
      "Epoch 5/20\n",
      "981/981 [==============================] - 89s 90ms/step - loss: 0.2814 - accuracy: 0.9196 - val_loss: 0.0896 - val_accuracy: 0.9768\n",
      "Epoch 6/20\n",
      "981/981 [==============================] - 89s 91ms/step - loss: 0.2516 - accuracy: 0.9284 - val_loss: 0.0669 - val_accuracy: 0.9830\n",
      "Epoch 7/20\n",
      "981/981 [==============================] - 89s 91ms/step - loss: 0.2489 - accuracy: 0.9322 - val_loss: 0.0818 - val_accuracy: 0.9799\n",
      "Epoch 8/20\n",
      "981/981 [==============================] - 89s 91ms/step - loss: 0.2295 - accuracy: 0.9378 - val_loss: 0.0646 - val_accuracy: 0.9844\n",
      "Epoch 9/20\n",
      "981/981 [==============================] - 85s 87ms/step - loss: 0.2211 - accuracy: 0.9391 - val_loss: 0.0668 - val_accuracy: 0.9819\n",
      "Epoch 10/20\n",
      "981/981 [==============================] - 86s 87ms/step - loss: 0.2236 - accuracy: 0.9423 - val_loss: 0.0752 - val_accuracy: 0.9800\n",
      "Epoch 11/20\n",
      "981/981 [==============================] - 86s 87ms/step - loss: 0.2182 - accuracy: 0.9434 - val_loss: 0.0600 - val_accuracy: 0.9848\n",
      "Epoch 12/20\n",
      "981/981 [==============================] - 85s 87ms/step - loss: 0.2126 - accuracy: 0.9450 - val_loss: 0.0560 - val_accuracy: 0.9850\n",
      "Epoch 13/20\n",
      "981/981 [==============================] - 86s 88ms/step - loss: 0.2436 - accuracy: 0.9398 - val_loss: 0.1156 - val_accuracy: 0.9666\n",
      "Epoch 14/20\n",
      "981/981 [==============================] - 85s 87ms/step - loss: 0.2095 - accuracy: 0.9470 - val_loss: 0.0870 - val_accuracy: 0.9770\n",
      "Epoch 15/20\n",
      "981/981 [==============================] - 85s 87ms/step - loss: 0.2271 - accuracy: 0.9447 - val_loss: 0.0677 - val_accuracy: 0.9816\n",
      "Epoch 16/20\n",
      "981/981 [==============================] - 85s 87ms/step - loss: 0.1924 - accuracy: 0.9485 - val_loss: 0.0622 - val_accuracy: 0.9848\n",
      "Epoch 17/20\n",
      "981/981 [==============================] - 85s 87ms/step - loss: 0.2458 - accuracy: 0.9426 - val_loss: 0.1346 - val_accuracy: 0.9702\n",
      "Epoch 18/20\n",
      "981/981 [==============================] - 86s 87ms/step - loss: 0.2378 - accuracy: 0.9448 - val_loss: 0.0564 - val_accuracy: 0.9852\n",
      "Epoch 19/20\n",
      "981/981 [==============================] - 86s 87ms/step - loss: 0.2332 - accuracy: 0.9447 - val_loss: 0.0715 - val_accuracy: 0.9814\n",
      "Epoch 20/20\n",
      "981/981 [==============================] - 87s 88ms/step - loss: 0.2746 - accuracy: 0.9366 - val_loss: 0.0681 - val_accuracy: 0.9837\n"
     ]
    }
   ],
   "source": [
    "h = model.fit(x_train,y_train,batch_size=32,epochs=20,validation_data=(x_test,y_test))"
   ]
  },
  {
   "cell_type": "code",
   "execution_count": 28,
   "metadata": {},
   "outputs": [
    {
     "data": {
      "image/png": "[encoded data removed]",
      "text/plain": [
       "<Figure size 432x288 with 1 Axes>"
      ]
     },
     "metadata": {
      "needs_background": "light"
     },
     "output_type": "display_data"
    }
   ],
   "source": [
    "plt.figure(0)\n",
    "plt.plot(h.history['accuracy'],label='training accuracy')\n",
    "plt.plot(h.history['val_accuracy'],label='val accuracy')\n",
    "plt.title('Accuracy')\n",
    "plt.xlabel('epochs')\n",
    "plt.ylabel('accuracy')\n",
    "plt.legend()\n",
    "plt.show()"
   ]
  },
  {
   "cell_type": "code",
   "execution_count": 29,
   "metadata": {},
   "outputs": [
    {
     "data": {
      "image/png": "[encoded data removed]",
      "text/plain": [
       "<Figure size 432x288 with 1 Axes>"
      ]
     },
     "metadata": {
      "needs_background": "light"
     },
     "output_type": "display_data"
    }
   ],
   "source": [
    "plt.plot(h.history['loss'],label='training loss')\n",
    "plt.plot(h.history['val_loss'],label='val loss')\n",
    "plt.title('Loss')\n",
    "plt.xlabel('epochs')\n",
    "plt.ylabel('loss')\n",
    "plt.legend()\n",
    "plt.show()"
   ]
  },
  {
   "cell_type": "code",
   "execution_count": null,
   "metadata": {},
   "outputs": [],
   "source": []
  },
  {
   "cell_type": "code",
   "execution_count": 30,
   "metadata": {},
   "outputs": [],
   "source": [
    "def testing(testcsv):\n",
    "    y_test=pd.read_csv(testcsv)\n",
    "    label=y_test[\"ClassId\"].values\n",
    "    imgs =y_test[\"Path\"].values\n",
    "    data=[]\n",
    "    for img in imgs:\n",
    "        image=Image.open(img)\n",
    "        image=image.resize((30,30))\n",
    "        data.append(np.array(image))\n",
    "    x_test=np.array(data)\n",
    "    return x_test,label"
   ]
  },
  {
   "cell_type": "code",
   "execution_count": 31,
   "metadata": {},
   "outputs": [],
   "source": [
    "x_test , label=testing('Test.csv')"
   ]
  },
  {
   "cell_type": "code",
   "execution_count": 32,
   "metadata": {},
   "outputs": [
    {
     "name": "stderr",
     "output_type": "stream",
     "text": [
      "C:\\Users\\Lenovo\\anaconda3\\lib\\site-packages\\tensorflow\\python\\keras\\engine\\sequential.py:455: UserWarning: `model.predict_classes()` is deprecated and will be removed after 2021-01-01. Please use instead:* `np.argmax(model.predict(x), axis=-1)`,   if your model does multi-class classification   (e.g. if it uses a `softmax` last-layer activation).* `(model.predict(x) > 0.5).astype(\"int32\")`,   if your model does binary classification   (e.g. if it uses a `sigmoid` last-layer activation).\n",
      "  warnings.warn('`model.predict_classes()` is deprecated and '\n"
     ]
    },
    {
     "data": {
      "text/plain": [
       "array([16,  1, 38, ..., 32,  7, 10], dtype=int64)"
      ]
     },
     "execution_count": 32,
     "metadata": {},
     "output_type": "execute_result"
    }
   ],
   "source": [
    "y_pred=model.predict_classes(x_test)\n",
    "y_pred"
   ]
  },
  {
   "cell_type": "code",
   "execution_count": null,
   "metadata": {},
   "outputs": [],
   "source": []
  },
  {
   "cell_type": "code",
   "execution_count": 33,
   "metadata": {},
   "outputs": [
    {
     "name": "stdout",
     "output_type": "stream",
     "text": [
      "Accuracy : 0.953285827395091\n"
     ]
    }
   ],
   "source": [
    "from sklearn.metrics import accuracy_score\n",
    "print(\"Accuracy :\",accuracy_score(label,y_pred))"
   ]
  },
  {
   "cell_type": "code",
   "execution_count": null,
   "metadata": {},
   "outputs": [],
   "source": []
  },
  {
   "cell_type": "code",
   "execution_count": 34,
   "metadata": {},
   "outputs": [],
   "source": [
    "model.save(\"./training/TSR.h5\")"
   ]
  },
  {
   "cell_type": "code",
   "execution_count": null,
   "metadata": {},
   "outputs": [],
   "source": []
  },
  {
   "cell_type": "code",
   "execution_count": 36,
   "metadata": {},
   "outputs": [],
   "source": [
    "import os \n",
    "os.chdir(r'D:\\Traffic')\n",
    "from tensorflow.keras.models import load_model\n",
    "model= load_model('./training/TSR.h5')"
   ]
  },
  {
   "cell_type": "code",
   "execution_count": 37,
   "metadata": {},
   "outputs": [],
   "source": [
    "# Classes of trafic signs\n",
    "classes = { 0:'Speed limit (20km/h)',\n",
    "            1:'Speed limit (30km/h)', \n",
    "            2:'Speed limit (50km/h)', \n",
    "            3:'Speed limit (60km/h)', \n",
    "            4:'Speed limit (70km/h)', \n",
    "            5:'Speed limit (80km/h)', \n",
    "            6:'End of speed limit (80km/h)', \n",
    "            7:'Speed limit (100km/h)', \n",
    "            8:'Speed limit (120km/h)', \n",
    "            9:'No passing', \n",
    "            10:'No passing veh over 3.5 tons', \n",
    "            11:'Right-of-way at intersection', \n",
    "            12:'Priority road', \n",
    "            13:'Yield', \n",
    "            14:'Stop', \n",
    "            15:'No vehicles', \n",
    "            16:'Veh > 3.5 tons prohibited', \n",
    "            17:'No entry', \n",
    "            18:'General caution', \n",
    "            19:'Dangerous curve left', \n",
    "            20:'Dangerous curve right', \n",
    "            21:'Double curve', \n",
    "            22:'Bumpy road', \n",
    "            23:'Slippery road', \n",
    "            24:'Road narrows on the right', \n",
    "            25:'Road work', \n",
    "            26:'Traffic signals', \n",
    "            27:'Pedestrians', \n",
    "            28:'Children crossing', \n",
    "            29:'Bicycles crossing', \n",
    "            30:'Beware of ice/snow',\n",
    "            31:'Wild animals crossing', \n",
    "            32:'End speed + passing limits', \n",
    "            33:'Turn right ahead', \n",
    "            34:'Turn left ahead', \n",
    "            35:'Ahead only', \n",
    "            36:'Go straight or right', \n",
    "            37:'Go straight or left', \n",
    "            38:'Keep right', \n",
    "            39:'Keep left', \n",
    "            40:'Roundabout mandatory', \n",
    "            41:'End of no passing', \n",
    "            42:'End no passing veh > 3.5 tons' }"
   ]
  },
  {
   "cell_type": "code",
   "execution_count": null,
   "metadata": {},
   "outputs": [],
   "source": []
  },
  {
   "cell_type": "code",
   "execution_count": 39,
   "metadata": {},
   "outputs": [],
   "source": [
    "from PIL import Image\n",
    "import numpy as np\n",
    "import matplotlib.pyplot as plt\n",
    "def test_on_img(img):\n",
    "    data=[]\n",
    "    image=Image.open(img)\n",
    "    image=image.resize((30,30))\n",
    "    data.append(np.array(image))\n",
    "    x_test=np.array(data)\n",
    "    y_pred=model.predict_classes(x_test)\n",
    "    return image,y_pred"
   ]
  },
  {
   "cell_type": "code",
   "execution_count": 50,
   "metadata": {},
   "outputs": [
    {
     "name": "stdout",
     "output_type": "stream",
     "text": [
      "Traffic sign(predicted) is :  Speed limit (120km/h)\n"
     ]
    },
    {
     "data": {
      "image/png": "[encoded data removed]",
      "text/plain": [
       "<Figure size 432x288 with 1 Axes>"
      ]
     },
     "metadata": {
      "needs_background": "light"
     },
     "output_type": "display_data"
    }
   ],
   "source": [
    "plot,prediction = test_on_img(r'D:\\Traffic\\Test\\05396.png')\n",
    "s = [str(i) for i in prediction]\n",
    "a = int(\"\".join(s))\n",
    "print(\"Traffic sign(predicted) is : \",classes[a])\n",
    "plt.imshow(plot)\n",
    "\n",
    "plt.show()"
   ]
  },
  {
   "cell_type": "code",
   "execution_count": null,
   "metadata": {},
   "outputs": [],
   "source": []
  },
  {
   "cell_type": "code",
   "execution_count": null,
   "metadata": {},
   "outputs": [],
   "source": []
  },
  {
   "cell_type": "code",
   "execution_count": null,
   "metadata": {},
   "outputs": [],
   "source": []
  },
  {
   "cell_type": "code",
   "execution_count": null,
   "metadata": {},
   "outputs": [],
   "source": []
  },
  {
   "cell_type": "code",
   "execution_count": null,
   "metadata": {},
   "outputs": [],
   "source": []
  },
  {
   "cell_type": "code",
   "execution_count": null,
   "metadata": {},
   "outputs": [],
   "source": []
  },
  {
   "cell_type": "code",
   "execution_count": null,
   "metadata": {},
   "outputs": [],
   "source": []
  }
 ],
 "metadata": {
  "kernelspec": {
   "display_name": "Python 3",
   "language": "python",
   "name": "python3"
  },
  "language_info": {
   "codemirror_mode": {
    "name": "ipython",
    "version": 3
   },
   "file_extension": ".py",
   "mimetype": "text/x-python",
   "name": "python",
   "nbconvert_exporter": "python",
   "pygments_lexer": "ipython3",
   "version": "3.8.5"
  }
 },
 "nbformat": 4,
 "nbformat_minor": 4
}
